{
 "cells": [
  {
   "cell_type": "markdown",
   "id": "44e9e458-742d-4158-9d79-7345be34242b",
   "metadata": {},
   "source": [
    "# Data Science Tools and Ecosystem"
   ]
  },
  {
   "cell_type": "markdown",
   "id": "4b7635b7-bdbe-40db-b79e-851dcb5c4229",
   "metadata": {},
   "source": [
    "In this notebook, Data Science Tools and Ecosystem are summarized."
   ]
  },
  {
   "cell_type": "markdown",
   "id": "483200bf-b812-490d-9708-6fdb0112bd61",
   "metadata": {},
   "source": [
    "__Objectives:__\n",
    "* Popular Languages in Data Science\n",
    "* How to take 5000 screnshots while doing very little\n",
    "* Commonly used libraries in Data Science\n",
    "* Data Science Tools\n",
    "* Examples of using Jupyter for math via pthon kernal\n",
    "\n"
   ]
  },
  {
   "cell_type": "markdown",
   "id": "a157cbd4-9c96-43ad-8f51-bda91e331331",
   "metadata": {},
   "source": [
    "Some of the popular languages that Data Scientists use are:\n",
    "1. R\n",
    "2. Python\n",
    "3. SQL\n",
    "   \n"
   ]
  },
  {
   "cell_type": "markdown",
   "id": "5da1379a-dd68-40eb-b3d5-0da54ca7381e",
   "metadata": {},
   "source": [
    "Some of the commonly used libraries used by Data Scientists include:\n",
    "1. Numpy\n",
    "2. SciKit\n",
    "3. Pandas"
   ]
  },
  {
   "cell_type": "markdown",
   "id": "f928c5db-f032-4b8a-ab15-e1274cd64eb2",
   "metadata": {},
   "source": [
    "Data Science Tools\n",
    "|-------|\n",
    "|RStudio|\n",
    "|Apache Spark|\n",
    "|Hadoop|\n"
   ]
  },
  {
   "cell_type": "markdown",
   "id": "b5edf08c-60a5-4c9b-a8dd-cf1e5a598210",
   "metadata": {},
   "source": [
    "## Below are a few examples of evaluating arithmetic expressions in Python"
   ]
  },
  {
   "cell_type": "code",
   "execution_count": 6,
   "id": "f4b1c765-066c-4c9e-b1ea-39c1c8b21cd4",
   "metadata": {},
   "outputs": [
    {
     "data": {
      "text/plain": [
       "17"
      ]
     },
     "execution_count": 6,
     "metadata": {},
     "output_type": "execute_result"
    }
   ],
   "source": [
    "# This a simple arithmetic expression to multiply then add integers\n",
    "(3*4)+5"
   ]
  },
  {
   "cell_type": "code",
   "execution_count": 7,
   "id": "c2ce85ec-ae19-42bf-a617-959f802cf7f3",
   "metadata": {},
   "outputs": [
    {
     "data": {
      "text/plain": [
       "3.3333333333333335"
      ]
     },
     "execution_count": 7,
     "metadata": {},
     "output_type": "execute_result"
    }
   ],
   "source": [
    "# This will convert 200 minutes to hours by diving by 60\n",
    "200/60"
   ]
  },
  {
   "cell_type": "markdown",
   "id": "e13a78f2-5f1c-4f7b-bdcf-4207a57c1fde",
   "metadata": {},
   "source": [
    "## Author : \n",
    "Ben Darlington"
   ]
  },
  {
   "cell_type": "code",
   "execution_count": null,
   "id": "fc433b76-c71f-463c-85c6-45b39827e7c6",
   "metadata": {},
   "outputs": [],
   "source": []
  }
 ],
 "metadata": {
  "kernelspec": {
   "display_name": "Python 3 (ipykernel)",
   "language": "python",
   "name": "python3"
  },
  "language_info": {
   "codemirror_mode": {
    "name": "ipython",
    "version": 3
   },
   "file_extension": ".py",
   "mimetype": "text/x-python",
   "name": "python",
   "nbconvert_exporter": "python",
   "pygments_lexer": "ipython3",
   "version": "3.11.9"
  }
 },
 "nbformat": 4,
 "nbformat_minor": 5
}
